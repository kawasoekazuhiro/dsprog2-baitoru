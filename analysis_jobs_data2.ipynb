{
 "cells": [
  {
   "cell_type": "code",
   "execution_count": 2,
   "id": "51ebb4ac-78ba-4746-a4d1-46b41e259985",
   "metadata": {},
   "outputs": [
    {
     "name": "stdout",
     "output_type": "stream",
     "text": [
      "   都市名                   店舗名                            仕事名  \\\n",
      "0  品川区                   NaN                            NaN   \n",
      "1  品川区                   NaN                            NaN   \n",
      "2  品川区             三軒茶屋とうきゅう    リニューアルオープン◎料理経験不問！初バイトも大歓迎！   \n",
      "3  品川区  Yotsuba café（ヨツバカフェ）  【企業内でのカフェスタッフ★】キッチン・バリスタ同時募集！   \n",
      "4  品川区        肉処　かつヰ　大井阪急精肉店  レジなし◎お肉を量って包むだけ！経験者は高時給◎週2～OK   \n",
      "\n",
      "                            勤務地                            時給  \n",
      "0                           NaN                           NaN  \n",
      "1                           NaN                           NaN  \n",
      "2                           NaN                           NaN  \n",
      "3  [勤務地・面接地] 東京都品川区 ⁄ 目黒駅（徒歩1分）                     時給1,200円～  \n",
      "4     [勤務地] 東京都品川区 ⁄ 大井町駅（徒歩2分）  ①時給1,600円～1,800円、②③時給1,250円～  \n"
     ]
    }
   ],
   "source": [
    "import pandas as pd\n",
    "\n",
    "df = pd.read_csv('jobs_data.csv')\n",
    "\n",
    "print(df.head())"
   ]
  },
  {
   "cell_type": "code",
   "execution_count": null,
   "id": "d918fa5d-06c0-40c3-a628-65a41d54ce21",
   "metadata": {},
   "outputs": [],
   "source": [
    "#最初の5行を読み込む"
   ]
  },
  {
   "cell_type": "code",
   "execution_count": 3,
   "id": "55a1f8eb",
   "metadata": {},
   "outputs": [
    {
     "name": "stdout",
     "output_type": "stream",
     "text": [
      "Requirement already satisfied: matplotlib in ./.venv/lib/python3.12/site-packages (3.10.0)\n",
      "Requirement already satisfied: contourpy>=1.0.1 in ./.venv/lib/python3.12/site-packages (from matplotlib) (1.3.1)\n",
      "Requirement already satisfied: cycler>=0.10 in ./.venv/lib/python3.12/site-packages (from matplotlib) (0.12.1)\n",
      "Requirement already satisfied: fonttools>=4.22.0 in ./.venv/lib/python3.12/site-packages (from matplotlib) (4.55.5)\n",
      "Requirement already satisfied: kiwisolver>=1.3.1 in ./.venv/lib/python3.12/site-packages (from matplotlib) (1.4.8)\n",
      "Requirement already satisfied: numpy>=1.23 in ./.venv/lib/python3.12/site-packages (from matplotlib) (2.2.2)\n",
      "Requirement already satisfied: packaging>=20.0 in ./.venv/lib/python3.12/site-packages (from matplotlib) (24.2)\n",
      "Requirement already satisfied: pillow>=8 in ./.venv/lib/python3.12/site-packages (from matplotlib) (11.1.0)\n",
      "Requirement already satisfied: pyparsing>=2.3.1 in ./.venv/lib/python3.12/site-packages (from matplotlib) (3.2.1)\n",
      "Requirement already satisfied: python-dateutil>=2.7 in ./.venv/lib/python3.12/site-packages (from matplotlib) (2.9.0.post0)\n",
      "Requirement already satisfied: six>=1.5 in ./.venv/lib/python3.12/site-packages (from python-dateutil>=2.7->matplotlib) (1.17.0)\n",
      "Note: you may need to restart the kernel to use updated packages.\n"
     ]
    }
   ],
   "source": [
    "%pip install matplotlib"
   ]
  },
  {
   "cell_type": "code",
   "execution_count": null,
   "id": "a7d4dba0",
   "metadata": {},
   "outputs": [],
   "source": [
    "#matplotlibをインストール"
   ]
  },
  {
   "cell_type": "code",
   "execution_count": null,
   "id": "6ad7abc8",
   "metadata": {},
   "outputs": [
    {
     "name": "stdout",
     "output_type": "stream",
     "text": [
      "Average Hourly Wage: 129.41776504297994\n",
      "Average Income in Shinagawa, Tokyo: 661万円\n",
      "Average Income in Miyazaki, Miyazaki: 448万円\n"
     ]
    },
    {
     "name": "stderr",
     "output_type": "stream",
     "text": [
      "<>:5: SyntaxWarning: invalid escape sequence '\\d'\n",
      "<>:5: SyntaxWarning: invalid escape sequence '\\d'\n",
      "/var/folders/l4/1pfhs4ts6ld_nj4_25k7ts0w0000gn/T/ipykernel_14443/754879033.py:5: SyntaxWarning: invalid escape sequence '\\d'\n",
      "  df['時給'] = pd.to_numeric(df['時給'].str.extract('(\\d+)')[0], errors='coerce')\n"
     ]
    }
   ],
   "source": [
    "import pandas as pd\n",
    "\n",
    "def compare_average_income(df, fixed_shinagawa_income, fixed_miyazaki_income):\n",
    "\n",
    "    df['時給'] = pd.to_numeric(df['時給'].str.extract('(\\d+)')[0], errors='coerce')\n",
    "    avg_hourly_wage = df['時給'].mean()\n",
    "\n",
    "    shinagawa_avg_income = fixed_shinagawa_income\n",
    "    miyazaki_avg_income = fixed_miyazaki_income\n",
    "\n",
    "    return avg_hourly_wage, shinagawa_avg_income, miyazaki_avg_income\n",
    "\n",
    "df = pd.read_csv('jobs_data.csv')\n",
    "\n",
    "avg_hourly_wage, shinagawa_avg_income, miyazaki_avg_income = compare_average_income(df, 661, 448)\n",
    "print(f\"Average Hourly Wage: {avg_hourly_wage}\")\n",
    "print(f\"Average Income in Shinagawa, Tokyo: {shinagawa_avg_income}万円\")\n",
    "print(f\"Average Income in Miyazaki, Miyazaki: {miyazaki_avg_income}万円\")"
   ]
  }
 ],
 "metadata": {
  "kernelspec": {
   "display_name": ".venv",
   "language": "python",
   "name": "python3"
  },
  "language_info": {
   "codemirror_mode": {
    "name": "ipython",
    "version": 3
   },
   "file_extension": ".py",
   "mimetype": "text/x-python",
   "name": "python",
   "nbconvert_exporter": "python",
   "pygments_lexer": "ipython3",
   "version": "3.12.7"
  }
 },
 "nbformat": 4,
 "nbformat_minor": 5
}
