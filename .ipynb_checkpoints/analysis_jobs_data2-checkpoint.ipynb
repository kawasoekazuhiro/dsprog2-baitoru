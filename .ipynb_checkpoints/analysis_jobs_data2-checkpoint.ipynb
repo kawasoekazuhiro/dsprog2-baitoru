{
 "cells": [
  {
   "cell_type": "code",
   "execution_count": 2,
   "id": "51ebb4ac-78ba-4746-a4d1-46b41e259985",
   "metadata": {},
   "outputs": [
    {
     "name": "stdout",
     "output_type": "stream",
     "text": [
      "   都市名                   店舗名                            仕事名  \\\n",
      "0  品川区                   NaN                            NaN   \n",
      "1  品川区                   NaN                            NaN   \n",
      "2  品川区             三軒茶屋とうきゅう    リニューアルオープン◎料理経験不問！初バイトも大歓迎！   \n",
      "3  品川区  Yotsuba café（ヨツバカフェ）  【企業内でのカフェスタッフ★】キッチン・バリスタ同時募集！   \n",
      "4  品川区        肉処　かつヰ　大井阪急精肉店  レジなし◎お肉を量って包むだけ！経験者は高時給◎週2～OK   \n",
      "\n",
      "                            勤務地                            時給  \n",
      "0                           NaN                           NaN  \n",
      "1                           NaN                           NaN  \n",
      "2                           NaN                           NaN  \n",
      "3  [勤務地・面接地] 東京都品川区 ⁄ 目黒駅（徒歩1分）                     時給1,200円～  \n",
      "4     [勤務地] 東京都品川区 ⁄ 大井町駅（徒歩2分）  ①時給1,600円～1,800円、②③時給1,250円～  \n"
     ]
    }
   ],
   "source": [
    "import pandas as pd\n",
    "\n",
    "df = pd.read_csv('jobs_data.csv')\n",
    "\n",
    "print(df.head())"
   ]
  },
  {
   "cell_type": "code",
   "execution_count": null,
   "id": "d918fa5d-06c0-40c3-a628-65a41d54ce21",
   "metadata": {},
   "outputs": [],
   "source": [
    "#最初の5行を読み込む"
   ]
  },
  {
   "cell_type": "code",
   "execution_count": null,
   "id": "6c0b3acb-c2d6-421c-be1c-96385460259c",
   "metadata": {},
   "outputs": [],
   "source": []
  }
 ],
 "metadata": {
  "kernelspec": {
   "display_name": "Python 3 (ipykernel)",
   "language": "python",
   "name": "python3"
  },
  "language_info": {
   "codemirror_mode": {
    "name": "ipython",
    "version": 3
   },
   "file_extension": ".py",
   "mimetype": "text/x-python",
   "name": "python",
   "nbconvert_exporter": "python",
   "pygments_lexer": "ipython3",
   "version": "3.12.7"
  }
 },
 "nbformat": 4,
 "nbformat_minor": 5
}
